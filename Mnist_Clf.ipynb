{
 "cells": [
  {
   "cell_type": "code",
   "execution_count": 1,
   "metadata": {},
   "outputs": [],
   "source": [
    "import tensorflow as tf"
   ]
  },
  {
   "cell_type": "code",
   "execution_count": 2,
   "metadata": {},
   "outputs": [],
   "source": [
    "import numpy as np"
   ]
  },
  {
   "cell_type": "code",
   "execution_count": 3,
   "metadata": {},
   "outputs": [],
   "source": [
    "from mlxtend.data import loadlocal_mnist"
   ]
  },
  {
   "cell_type": "code",
   "execution_count": 4,
   "metadata": {},
   "outputs": [],
   "source": [
    "X_train, y_train = loadlocal_mnist(\n",
    "        images_path='./train-images-idx3-ubyte', \n",
    "        labels_path='./train-labels-idx1-ubyte')"
   ]
  },
  {
   "cell_type": "code",
   "execution_count": 5,
   "metadata": {},
   "outputs": [
    {
     "name": "stdout",
     "output_type": "stream",
     "text": [
      "Dimensions: 18225 x 784\n"
     ]
    }
   ],
   "source": [
    "print('Dimensions: %s x %s' % (X_train.shape[0], X_train.shape[1]))"
   ]
  },
  {
   "cell_type": "code",
   "execution_count": 6,
   "metadata": {},
   "outputs": [],
   "source": [
    "X_test, y_test = loadlocal_mnist(\n",
    "        images_path='./test-images-idx3-ubyte', \n",
    "        labels_path='./test-labels-idx1-ubyte')"
   ]
  },
  {
   "cell_type": "code",
   "execution_count": 7,
   "metadata": {},
   "outputs": [
    {
     "name": "stdout",
     "output_type": "stream",
     "text": [
      "Dimensions: 4563 x 784\n"
     ]
    }
   ],
   "source": [
    "print('Dimensions: %s x %s' % (X_test.shape[0], X_test.shape[1]))"
   ]
  },
  {
   "cell_type": "code",
   "execution_count": 8,
   "metadata": {},
   "outputs": [],
   "source": [
    "y_train = tf.keras.utils.to_categorical(y_train) #Converts a class vector (integers) to binary class matrix.\n",
    "y_test = tf.keras.utils.to_categorical(y_test)"
   ]
  },
  {
   "cell_type": "code",
   "execution_count": 9,
   "metadata": {},
   "outputs": [],
   "source": [
    "X_train = (X_train-127.5)/127.5\n",
    "X_test = (X_test-127.5)/127.5\n"
   ]
  },
  {
   "cell_type": "code",
   "execution_count": 13,
   "metadata": {},
   "outputs": [
    {
     "name": "stdout",
     "output_type": "stream",
     "text": [
      "Train on 18225 samples, validate on 4563 samples\n",
      "Epoch 1/20\n",
      "18225/18225 [==============================] - 5s 277us/sample - loss: 0.0329 - accuracy: 0.7545 - val_loss: 0.0094 - val_accuracy: 0.9382\n",
      "Epoch 2/20\n",
      "18225/18225 [==============================] - 4s 238us/sample - loss: 0.0158 - accuracy: 0.8985 - val_loss: 0.0070 - val_accuracy: 0.9544\n",
      "Epoch 3/20\n",
      "18225/18225 [==============================] - 4s 238us/sample - loss: 0.0131 - accuracy: 0.9174 - val_loss: 0.0063 - val_accuracy: 0.9597\n",
      "Epoch 4/20\n",
      "18225/18225 [==============================] - 4s 234us/sample - loss: 0.0118 - accuracy: 0.9265 - val_loss: 0.0054 - val_accuracy: 0.9667\n",
      "Epoch 5/20\n",
      "18225/18225 [==============================] - 4s 235us/sample - loss: 0.0103 - accuracy: 0.9340 - val_loss: 0.0056 - val_accuracy: 0.9669\n",
      "Epoch 6/20\n",
      "18225/18225 [==============================] - 4s 226us/sample - loss: 0.0095 - accuracy: 0.9399 - val_loss: 0.0062 - val_accuracy: 0.9608\n",
      "Epoch 7/20\n",
      "18225/18225 [==============================] - 4s 239us/sample - loss: 0.0092 - accuracy: 0.9423 - val_loss: 0.0054 - val_accuracy: 0.9673\n",
      "Epoch 8/20\n",
      "18225/18225 [==============================] - 4s 234us/sample - loss: 0.0087 - accuracy: 0.9459 - val_loss: 0.0049 - val_accuracy: 0.9702\n",
      "Epoch 9/20\n",
      "18225/18225 [==============================] - 4s 235us/sample - loss: 0.0086 - accuracy: 0.9456 - val_loss: 0.0053 - val_accuracy: 0.9676\n",
      "Epoch 10/20\n",
      "18225/18225 [==============================] - 4s 231us/sample - loss: 0.0081 - accuracy: 0.9496 - val_loss: 0.0046 - val_accuracy: 0.9724\n",
      "Epoch 11/20\n",
      "18225/18225 [==============================] - 4s 237us/sample - loss: 0.0077 - accuracy: 0.9523 - val_loss: 0.0042 - val_accuracy: 0.9737\n",
      "Epoch 12/20\n",
      "18225/18225 [==============================] - 4s 234us/sample - loss: 0.0076 - accuracy: 0.9528 - val_loss: 0.0045 - val_accuracy: 0.9733\n",
      "Epoch 13/20\n",
      "18225/18225 [==============================] - 4s 236us/sample - loss: 0.0070 - accuracy: 0.9561 - val_loss: 0.0049 - val_accuracy: 0.9706\n",
      "Epoch 14/20\n",
      "18225/18225 [==============================] - 4s 235us/sample - loss: 0.0068 - accuracy: 0.9573 - val_loss: 0.0045 - val_accuracy: 0.9730\n",
      "Epoch 15/20\n",
      "18225/18225 [==============================] - 4s 235us/sample - loss: 0.0064 - accuracy: 0.9592 - val_loss: 0.0052 - val_accuracy: 0.9689\n",
      "Epoch 16/20\n",
      "18225/18225 [==============================] - 4s 239us/sample - loss: 0.0066 - accuracy: 0.9591 - val_loss: 0.0043 - val_accuracy: 0.9730\n",
      "Epoch 17/20\n",
      "18225/18225 [==============================] - 4s 238us/sample - loss: 0.0059 - accuracy: 0.9630 - val_loss: 0.0049 - val_accuracy: 0.9700\n",
      "Epoch 18/20\n",
      "18225/18225 [==============================] - 4s 233us/sample - loss: 0.0062 - accuracy: 0.9616 - val_loss: 0.0041 - val_accuracy: 0.9759\n",
      "Epoch 19/20\n",
      "18225/18225 [==============================] - 4s 233us/sample - loss: 0.0061 - accuracy: 0.9623 - val_loss: 0.0040 - val_accuracy: 0.9763\n",
      "Epoch 20/20\n",
      "18225/18225 [==============================] - 4s 233us/sample - loss: 0.0060 - accuracy: 0.9633 - val_loss: 0.0034 - val_accuracy: 0.9794\n"
     ]
    },
    {
     "data": {
      "text/plain": [
       "<tensorflow.python.keras.callbacks.History at 0x7f84fc2a2c88>"
      ]
     },
     "execution_count": 13,
     "metadata": {},
     "output_type": "execute_result"
    }
   ],
   "source": [
    "\n",
    "model = tf.keras.models.Sequential([\n",
    "    \n",
    "    tf.keras.layers.Flatten(input_shape=(784,)),\n",
    "    tf.keras.layers.Dense(1024, activation='relu'),\n",
    "    tf.keras.layers.Dropout(0.25),\n",
    "    tf.keras.layers.Dense(512, activation='relu'),\n",
    "    tf.keras.layers.Dropout(0.25),\n",
    "    tf.keras.layers.Dense(256, activation='relu'),\n",
    "    tf.keras.layers.Dropout(0.25),\n",
    "    tf.keras.layers.Dense(128, activation='relu'),\n",
    "    tf.keras.layers.Dropout(0.25),\n",
    "    tf.keras.layers.Dense(64, activation='relu'),\n",
    "    tf.keras.layers.Dense(10, activation='softmax')  \n",
    "    \n",
    "])\n",
    "\n",
    "optimizer = tf.keras.optimizers.Adam(learning_rate=5e-4)\n",
    "model.compile(optimizer=optimizer, loss='mse', metrics=['accuracy'])\n",
    "model.fit(X_train, y_train, epochs=20, validation_data=(X_test, y_test))"
   ]
  },
  {
   "cell_type": "code",
   "execution_count": 14,
   "metadata": {},
   "outputs": [],
   "source": [
    "import struct\n",
    "with open('./final-test-images-idx3-ubyte', 'rb') as imgpath:\n",
    "        magic, num, rows, cols = struct.unpack(\">IIII\",\n",
    "                                               imgpath.read(16))\n",
    "        test_F = np.fromfile(imgpath,\n",
    "                             dtype=np.uint8).reshape(4563, 784)"
   ]
  },
  {
   "cell_type": "code",
   "execution_count": 15,
   "metadata": {},
   "outputs": [
    {
     "name": "stdout",
     "output_type": "stream",
     "text": [
      "Dimensions: 4563 x 784\n"
     ]
    }
   ],
   "source": [
    "print('Dimensions: %s x %s' % (test_F.shape[0], test_F.shape[1]))"
   ]
  },
  {
   "cell_type": "code",
   "execution_count": 16,
   "metadata": {},
   "outputs": [],
   "source": [
    "ans = model.predict(test_F)"
   ]
  },
  {
   "cell_type": "code",
   "execution_count": 17,
   "metadata": {},
   "outputs": [
    {
     "name": "stdout",
     "output_type": "stream",
     "text": [
      "[[0. 0. 1. ... 0. 0. 0.]\n",
      " [0. 0. 0. ... 1. 0. 0.]\n",
      " [0. 0. 1. ... 0. 0. 0.]\n",
      " ...\n",
      " [0. 0. 0. ... 0. 1. 0.]\n",
      " [1. 0. 0. ... 0. 0. 0.]\n",
      " [1. 0. 0. ... 0. 0. 0.]]\n"
     ]
    }
   ],
   "source": [
    "print(ans)"
   ]
  },
  {
   "cell_type": "code",
   "execution_count": 19,
   "metadata": {},
   "outputs": [],
   "source": [
    "import csv\n",
    "with open('output_mnist_2.csv', 'w', newline='') as csvfile:\n",
    "    writer = csv.writer(csvfile)\n",
    "    writer.writerow(['id', 'class'])\n",
    "    for i in range(len(ans)):\n",
    "        #print(i+1,prediction)\n",
    "        writer.writerow([i+1, ans[i].argmax()])\n"
   ]
  },
  {
   "cell_type": "code",
   "execution_count": null,
   "metadata": {},
   "outputs": [],
   "source": []
  }
 ],
 "metadata": {
  "kernelspec": {
   "display_name": "Python 3",
   "language": "python",
   "name": "python3"
  },
  "language_info": {
   "codemirror_mode": {
    "name": "ipython",
    "version": 3
   },
   "file_extension": ".py",
   "mimetype": "text/x-python",
   "name": "python",
   "nbconvert_exporter": "python",
   "pygments_lexer": "ipython3",
   "version": "3.6.7"
  }
 },
 "nbformat": 4,
 "nbformat_minor": 4
}
